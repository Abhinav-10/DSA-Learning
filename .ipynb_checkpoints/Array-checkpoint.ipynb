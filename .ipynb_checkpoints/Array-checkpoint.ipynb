{
 "cells": [
  {
   "cell_type": "markdown",
   "id": "9f4d2e06",
   "metadata": {},
   "source": [
    "1. Array is a collection of contigenous memory location.\n",
    "2. In python list is type of array\n",
    "3. list is dynamic in nature.\n",
    "\n",
    "### Basic array operation\n",
    "Traverse − print all the array elements one by one.\n",
    "\n",
    "Insertion − Adds an element at the given index.\n",
    "\n",
    "Deletion − Deletes an element at the given index.\n",
    "\n",
    "Search − Searches an element using the given index or by the value.\n",
    "\n",
    "Update − Updates an element at the given index."
   ]
  },
  {
   "cell_type": "markdown",
   "id": "ff3e1339",
   "metadata": {},
   "source": [
    "### q1: Let us say your expense for every month are listed below,\n",
    "    January - 2200\n",
    "    February - 2350\n",
    "    March - 2600\n",
    "    April - 2130\n",
    "    May - 2190\n",
    "Create a list to store these monthly expenses and using that find out,\n",
    "\n",
    "1. In Feb, how many dollars you spent extra compare to January?\n",
    "2. Find out your total expense in first quarter (first three months) of the year.\n",
    "3. Find out if you spent exactly 2000 dollars in any month\n",
    "4. June month just finished and your expense is 1980 dollar. Add this item to our monthly expense list\n",
    "5. You returned an item that you bought in a month of April and\n",
    "got a refund of 200$. Make a correction to your monthly expense list\n",
    "based on this"
   ]
  },
  {
   "cell_type": "code",
   "execution_count": 2,
   "id": "256052c5",
   "metadata": {},
   "outputs": [
    {
     "name": "stdout",
     "output_type": "stream",
     "text": [
      "sol1 150\n",
      "sol2 7300\n"
     ]
    }
   ],
   "source": [
    "#  create Expenses list\n",
    "l = [2200, 2350, 2600, 2130, 2190]\n",
    "\n",
    "print('sol1:spent extra compare to January', l[1]-l[0])\n",
    "print('sol2: total expense in first quarter (first three months) of the year', l[0]+l[1]+l[2])"
   ]
  },
  {
   "cell_type": "code",
   "execution_count": null,
   "id": "648b5a1b",
   "metadata": {},
   "outputs": [],
   "source": []
  }
 ],
 "metadata": {
  "kernelspec": {
   "display_name": "Python 3 (ipykernel)",
   "language": "python",
   "name": "python3"
  },
  "language_info": {
   "codemirror_mode": {
    "name": "ipython",
    "version": 3
   },
   "file_extension": ".py",
   "mimetype": "text/x-python",
   "name": "python",
   "nbconvert_exporter": "python",
   "pygments_lexer": "ipython3",
   "version": "3.7.0"
  }
 },
 "nbformat": 4,
 "nbformat_minor": 5
}
