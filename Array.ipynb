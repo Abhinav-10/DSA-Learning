{
 "cells": [
  {
   "cell_type": "markdown",
   "id": "9003bf00",
   "metadata": {},
   "source": [
    "1. Array is a collection of contigenous memory location.\n",
    "2. In python list is type of array\n",
    "3. list is dynamic in nature.\n",
    "\n",
    "### Basic array operation\n",
    "Traverse − print all the array elements one by one.\n",
    "\n",
    "Insertion − Adds an element at the given index.\n",
    "\n",
    "Deletion − Deletes an element at the given index.\n",
    "\n",
    "Search − Searches an element using the given index or by the value.\n",
    "\n",
    "Update − Updates an element at the given index."
   ]
  },
  {
   "cell_type": "markdown",
   "id": "ad17d0e0",
   "metadata": {},
   "source": [
    "### q1: Let us say your expense for every month are listed below,\n",
    "    January - 2200\n",
    "    February - 2350\n",
    "    March - 2600\n",
    "    April - 2130\n",
    "    May - 2190\n",
    "Create a list to store these monthly expenses and using that find out,\n",
    "\n",
    "1. In Feb, how many dollars you spent extra compare to January?\n",
    "2. Find out your total expense in first quarter (first three months) of the year.\n",
    "3. Find out if you spent exactly 2000 dollars in any month\n",
    "4. June month just finished and your expense is 1980 dollar. Add this item to our monthly expense list\n",
    "5. You returned an item that you bought in a month of April and\n",
    "    got a refund of 200$. Make a correction to your monthly expense list\n",
    "    based on this"
   ]
  },
  {
   "cell_type": "code",
   "execution_count": 16,
   "id": "fb13cdbd",
   "metadata": {},
   "outputs": [
    {
     "name": "stdout",
     "output_type": "stream",
     "text": [
      "sol1:spent extra compare to January -  150\n",
      "sol2: total expense in first quarter (first three months) of the year -  7150\n",
      "sol3: spent exactly 2000 dollars in any month -  False\n",
      "sol4: Add june expense 1980 in list -  [2200, 2350, 2600, 2130, 2190, 1980]\n",
      "sol5: in april got 200 refund update expensis in list -  [2200, 2350, 2600, 1930, 2190, 1980]\n"
     ]
    }
   ],
   "source": [
    "#  create Expenses list\n",
    "l = [2200, 2350, 2600, 2130, 2190]\n",
    "\n",
    "print('sol1:spent extra compare to January - ', l[1]-l[0])\n",
    "print('sol2: total expense in first quarter (first three months) of the year - ', l[0]+l[1]+l[2])\n",
    "print('sol3: spent exactly 2000 dollars in any month - ', 200 in l)\n",
    "t = l.append(1980)\n",
    "print('sol4: Add june expense 1980 in list - ', l)\n",
    "l[3] = l[3]-200\n",
    "print('sol5: in april got 200 refund update expensis in list - ',l) \n"
   ]
  },
  {
   "cell_type": "markdown",
   "id": "7979e44a",
   "metadata": {},
   "source": [
    "### Q2: You have a list of your favourite marvel super heros.\n",
    "heros=['spider man','thor','hulk','iron man','captain america']\n",
    "#### Using this find out,\n",
    "1. Length of the list\n",
    "2. Add 'black panther' at the end of this list\n",
    "3. You realize that you need to add 'black panther' after 'hulk',\n",
    "   so remove it from the list first and then add it after 'hulk'\n",
    "4. Now you don't like thor and hulk because they get angry easily :)\n",
    "   So you want to remove thor and hulk from list and replace them with doctor strange (because he is cool).\n",
    "   Do that with one line of code.\n",
    "5. Sort the heros list in alphabetical order (Hint. Use dir() functions to list down all functions available in list)"
   ]
  },
  {
   "cell_type": "code",
   "execution_count": 37,
   "id": "b9ca3b83",
   "metadata": {},
   "outputs": [
    {
     "name": "stdout",
     "output_type": "stream",
     "text": [
      "sol1: Length of the list - 5\n",
      "sol2: add blackpanther at the end of list - ['spider man', 'thor', 'hulk', 'iron man', 'captain america', 'Black Panther']\n",
      "sol3: replace blackpanther after hulk -  ['spider man', 'thor', 'Black Panther', 'hulk', 'iron man', 'captain america']\n",
      "sol4: replace thor and hulk with doctor strange -  ['spider man', 'doctor strange', 'hulk', 'iron man', 'captain america']\n",
      "sol5: sort list in alphabatical order -  ['captain america', 'doctor strange', 'hulk', 'iron man', 'spider man']\n"
     ]
    }
   ],
   "source": [
    "heros=['spider man','thor','hulk','iron man','captain america']\n",
    "print('sol1: Length of the list -', len(heros))\n",
    "heros.append('Black Panther')\n",
    "print('sol2: add blackpanther at the end of list -',heros )\n",
    "\n",
    "heros.remove('Black Panther')\n",
    "heros.insert(2, 'Black Panther')\n",
    "\n",
    "print('sol3: replace blackpanther after hulk - ', heros)\n",
    "\n",
    "heros[1:3] = ['doctor strange']\n",
    "print('sol4: replace thor and hulk with doctor strange - ', heros)\n",
    "\n",
    "heros.sort()\n",
    "print('sol5: sort list in alphabatical order - ',heros )"
   ]
  },
  {
   "cell_type": "markdown",
   "id": "6ea0ab2a",
   "metadata": {},
   "source": [
    "### Q3: Create a list of all odd numbers between 1 and a max number. Max number is something you need to take from a user using input() function"
   ]
  },
  {
   "cell_type": "code",
   "execution_count": 43,
   "id": "18f72423",
   "metadata": {},
   "outputs": [
    {
     "name": "stdout",
     "output_type": "stream",
     "text": [
      "Enter the number200\n",
      "[1, 3, 5, 7, 9, 11, 13, 15, 17, 19, 21, 23, 25, 27, 29, 31, 33, 35, 37, 39, 41, 43, 45, 47, 49, 51, 53, 55, 57, 59, 61, 63, 65, 67, 69, 71, 73, 75, 77, 79, 81, 83, 85, 87, 89, 91, 93, 95, 97, 99, 101, 103, 105, 107, 109, 111, 113, 115, 117, 119, 121, 123, 125, 127, 129, 131, 133, 135, 137, 139, 141, 143, 145, 147, 149, 151, 153, 155, 157, 159, 161, 163, 165, 167, 169, 171, 173, 175, 177, 179, 181, 183, 185, 187, 189, 191, 193, 195, 197, 199]\n"
     ]
    }
   ],
   "source": [
    "max_num = int(input(\"Enter the number\"))\n",
    "l = []\n",
    "for i in range(1, max_num):\n",
    "    if i%2 !=0:\n",
    "        l.append(i)\n",
    "print(l)"
   ]
  },
  {
   "cell_type": "markdown",
   "id": "7243793c",
   "metadata": {},
   "source": [
    "### List Method\n",
    "```\n",
    "Method\tDescription\n",
    "append()\tAdds an element at the end of the list\n",
    "clear()\tRemoves all the elements from the list\n",
    "copy()\tReturns a copy of the list\n",
    "count()\tReturns the number of elements with the specified value\n",
    "extend()\tAdd the elements of a list (or any iterable), to the end of the current list\n",
    "index()\tReturns the index of the first element with the specified value\n",
    "insert()\tAdds an element at the specified position\n",
    "pop()\tRemoves the element at the specified position\n",
    "remove()\tRemoves the item with the specified value\n",
    "reverse()\tReverses the order of the list\n",
    "sort()\tSorts the list\n",
    "```"
   ]
  },
  {
   "cell_type": "code",
   "execution_count": 72,
   "id": "0139846a",
   "metadata": {},
   "outputs": [],
   "source": [
    "l = [1, 3, 5, 7, 9, 11, 13, 13, 15, 17, 19, 21, 23, 25, 27, 29, 31, 33, 35, 37, 39, 41, 43, 45, 47, 49, 51, 53, 55, 57, 59, 61, 63, 65, 67, 69, 71, 73, 75, 77, 79, 81, 83, 85, 87, 89, 91, 93, 95, 97, 99, 101, 103, 105, 107, 109, 111, 113, 115, 117, 119, 121, 123, 125, 127, 129, 131, 133, 135, 137, 139, 141, 143, 145, 147, 149, 151, 153, 155, 157, 159, 161, 163, 165, 167, 169, 171, 173, 175, 177, 179, 181, 183, 185, 187, 189, 191, 193, 195, 197, 199]"
   ]
  },
  {
   "cell_type": "code",
   "execution_count": 73,
   "id": "7dec69bc",
   "metadata": {},
   "outputs": [
    {
     "name": "stdout",
     "output_type": "stream",
     "text": [
      "copy of list- [1, 3, 5, 7, 9, 11, 13, 13, 15, 17, 19, 21, 23, 25, 27, 29, 31, 33, 35, 37, 39, 41, 43, 45, 47, 49, 51, 53, 55, 57, 59, 61, 63, 65, 67, 69, 71, 73, 75, 77, 79, 81, 83, 85, 87, 89, 91, 93, 95, 97, 99, 101, 103, 105, 107, 109, 111, 113, 115, 117, 119, 121, 123, 125, 127, 129, 131, 133, 135, 137, 139, 141, 143, 145, 147, 149, 151, 153, 155, 157, 159, 161, 163, 165, 167, 169, 171, 173, 175, 177, 179, 181, 183, 185, 187, 189, 191, 193, 195, 197, 199]\n",
      "appended list- [1, 3, 5, 7, 9, 11, 13, 13, 15, 17, 19, 21, 23, 25, 27, 29, 31, 33, 35, 37, 39, 41, 43, 45, 47, 49, 51, 53, 55, 57, 59, 61, 63, 65, 67, 69, 71, 73, 75, 77, 79, 81, 83, 85, 87, 89, 91, 93, 95, 97, 99, 101, 103, 105, 107, 109, 111, 113, 115, 117, 119, 121, 123, 125, 127, 129, 131, 133, 135, 137, 139, 141, 143, 145, 147, 149, 151, 153, 155, 157, 159, 161, 163, 165, 167, 169, 171, 173, 175, 177, 179, 181, 183, 185, 187, 189, 191, 193, 195, 197, 199, 54]\n",
      "clear list - []\n",
      "count of copyed list - 2\n",
      "&&&&&&&&&&&&&&&&&&&&&&&&&&&&&&& Reversed list [199, 197, 195, 193, 191, 189, 187, 185, 183, 181, 179, 177, 175, 173, 171, 169, 167, 165, 163, 161, 159, 157, 155, 153, 151, 149, 147, 145, 143, 141, 139, 137, 135, 133, 131, 129, 127, 125, 123, 121, 119, 117, 115, 113, 111, 109, 107, 105, 103, 101, 99, 97, 95, 93, 91, 89, 87, 85, 83, 81, 79, 77, 75, 73, 71, 69, 67, 65, 63, 61, 59, 57, 55, 53, 51, 49, 47, 45, 43, 41, 39, 37, 35, 33, 31, 29, 27, 25, 23, 21, 19, 17, 15, 13, 13, 11, 9, 7, 5, 3, 1]\n"
     ]
    }
   ],
   "source": [
    "\n",
    "t = l.copy()\n",
    "print('copy of list-', t)\n",
    "\n",
    "l.append(54)\n",
    "print('appended list-', l)\n",
    "\n",
    "l.clear()\n",
    "print('clear list -', l)\n",
    "\n",
    "z = t.count(13)\n",
    "print('count of copyed list -', z)\n",
    "\n",
    "\n",
    "t.reverse()\n",
    "print('&&&&&&&&&&&&&&&&&&&&&&&&&&&&&&& Reversed list', t)"
   ]
  },
  {
   "cell_type": "markdown",
   "id": "da85b563",
   "metadata": {},
   "source": [
    "### Given a list, write a Python program to swap first and last element of the list.\n",
    "#### Input : [12, 35, 9, 56, 24]\n",
    "#### Output : [24, 35, 9, 56, 12]"
   ]
  },
  {
   "cell_type": "code",
   "execution_count": 77,
   "id": "ed09c045",
   "metadata": {},
   "outputs": [
    {
     "name": "stdout",
     "output_type": "stream",
     "text": [
      "[24, 35, 9, 56, 12]\n"
     ]
    }
   ],
   "source": [
    "l = [12, 35, 9, 56, 24]\n",
    "l[0], l[-1] = l[-1], l[0]\n",
    "print(l)"
   ]
  },
  {
   "cell_type": "markdown",
   "id": "ccfd8c08",
   "metadata": {},
   "source": [
    "### Python – Swap elements in String list\n",
    "####  Initializing list\n",
    "#### test_list = ['Gfg', 'is', 'best', 'for', 'Geeks']\n",
    "#### replace G with e and e with G"
   ]
  },
  {
   "cell_type": "code",
   "execution_count": 88,
   "id": "5b08d1eb",
   "metadata": {},
   "outputs": [
    {
     "name": "stdout",
     "output_type": "stream",
     "text": [
      "['efg']\n",
      "['is']\n",
      "['bGst']\n",
      "['for']\n",
      "['eGGks']\n"
     ]
    }
   ],
   "source": [
    "test_list = ['Gfg', 'is', 'best', 'for', 'Geeks']\n",
    "for i in test_list:\n",
    "    l = []\n",
    "    l.append(i.replace('G','_').replace('e', 'G').replace('_','e'))  \n",
    "    print(l)\n"
   ]
  },
  {
   "cell_type": "markdown",
   "id": "eb98feb3",
   "metadata": {},
   "source": [
    "###  Reversing a List in Python\n",
    "#### Input : list = [4, 5, 6, 7, 8, 9]\n",
    "#### Output : [9, 8, 7, 6, 5, 4] "
   ]
  },
  {
   "cell_type": "code",
   "execution_count": 89,
   "id": "6c260981",
   "metadata": {},
   "outputs": [
    {
     "name": "stdout",
     "output_type": "stream",
     "text": [
      "[9, 8, 7, 6, 5, 4]\n"
     ]
    }
   ],
   "source": [
    "list = [4, 5, 6, 7, 8, 9]\n",
    "print(list[::-1])\n"
   ]
  },
  {
   "cell_type": "code",
   "execution_count": 91,
   "id": "f4fff66b",
   "metadata": {},
   "outputs": [
    {
     "name": "stdout",
     "output_type": "stream",
     "text": [
      "[9, 8, 7, 6, 5, 4]\n"
     ]
    }
   ],
   "source": [
    "list = [4, 5, 6, 7, 8, 9]\n",
    "l = []\n",
    "for i in list:\n",
    "    l.insert(0,i)\n",
    "print(l)\n"
   ]
  },
  {
   "cell_type": "code",
   "execution_count": 94,
   "id": "ac7da227",
   "metadata": {},
   "outputs": [
    {
     "name": "stdout",
     "output_type": "stream",
     "text": [
      "[9, 8, 7, 6, 5, 4]\n"
     ]
    }
   ],
   "source": [
    "list = [4, 5, 6, 7, 8, 9]\n",
    "list.reverse()\n",
    "print(list)"
   ]
  },
  {
   "cell_type": "code",
   "execution_count": null,
   "id": "5db37f88",
   "metadata": {},
   "outputs": [],
   "source": []
  }
 ],
 "metadata": {
  "kernelspec": {
   "display_name": "Python 3 (ipykernel)",
   "language": "python",
   "name": "python3"
  },
  "language_info": {
   "codemirror_mode": {
    "name": "ipython",
    "version": 3
   },
   "file_extension": ".py",
   "mimetype": "text/x-python",
   "name": "python",
   "nbconvert_exporter": "python",
   "pygments_lexer": "ipython3",
   "version": "3.7.0"
  }
 },
 "nbformat": 4,
 "nbformat_minor": 5
}
